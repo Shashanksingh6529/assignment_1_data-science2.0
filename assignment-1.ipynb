{
 "cells": [
  {
   "cell_type": "markdown",
   "id": "8867742d-34f4-41c8-a802-a64db93aef9d",
   "metadata": {},
   "source": [
    "Q1. Variables containing different types of data:"
   ]
  },
  {
   "cell_type": "code",
   "execution_count": 1,
   "id": "0dd48611-2634-4347-a9b7-02d4be4213be",
   "metadata": {},
   "outputs": [],
   "source": [
    "# (i) string\n",
    "string_var = \"Hello, world!\"\n",
    "\n",
    "# (ii) list\n",
    "list_var = [1, 2, 3, 4, 5]\n",
    "\n",
    "# (iii) float\n",
    "float_var = 3.14\n",
    "\n",
    "# (iv) tuple\n",
    "tuple_var = (1, 2, 3, 4, 5)"
   ]
  },
  {
   "cell_type": "raw",
   "id": "ba3601fa-d410-485c-9db9-330ef79783cd",
   "metadata": {},
   "source": [
    "Q2. Data types of given variables:\n",
    "(i) var1 = ‘ ‘\n",
    "(ii) var2 = ‘[ DS , ML , Python]’\n",
    "(iii) var3 = [ ‘DS’ , ’ML’ , ‘Python’ ]\n",
    "(iv) var4 = 1."
   ]
  },
  {
   "cell_type": "code",
   "execution_count": 4,
   "id": "19910922-7fae-4d6d-803e-a86a1159e7e0",
   "metadata": {},
   "outputs": [],
   "source": [
    "\n",
    "var1: \"string\"\n",
    "var2: \"string\"\n",
    "var3: list\n",
    "var4: float"
   ]
  },
  {
   "cell_type": "markdown",
   "id": "2153d8f2-78b2-41a5-b9db-4e62c987b2ad",
   "metadata": {},
   "source": [
    "Q3. Explain the use of the following operators using an example:\n",
    "(i) /\n",
    "(ii) %\n",
    "(iii) //\n",
    "(iv) **"
   ]
  },
  {
   "cell_type": "code",
   "execution_count": 5,
   "id": "a87eb6b9-c712-4dd9-8315-018b467cc7be",
   "metadata": {},
   "outputs": [
    {
     "name": "stdout",
     "output_type": "stream",
     "text": [
      "3.3333333333333335\n",
      "1\n",
      "3\n",
      "8\n"
     ]
    }
   ],
   "source": [
    "result = 10 / 3\n",
    "print(result)  # Output: 3.3333333333333335\n",
    "\n",
    "remainder = 10 % 3\n",
    "print(remainder)  # Output: 1\n",
    "\n",
    "result = 10 // 3\n",
    "print(result)  # Output: 3\n",
    "\n",
    "result = 2 ** 3\n",
    "print(result)  # Output: 8"
   ]
  },
  {
   "cell_type": "markdown",
   "id": "41846e5a-9d3b-46be-af05-62734391bb8c",
   "metadata": {},
   "source": [
    "Q4. Creating a list of mixed data types and printing their types using a for loop:\n"
   ]
  },
  {
   "cell_type": "code",
   "execution_count": 8,
   "id": "1741710e-25d0-46a1-ae01-57545710d779",
   "metadata": {},
   "outputs": [
    {
     "name": "stdout",
     "output_type": "stream",
     "text": [
      "1\n",
      "2\n",
      "3\n",
      "4\n",
      "5\n",
      "6\n",
      "True\n",
      "sudh\n",
      "(5+4j)\n",
      "34.34\n"
     ]
    }
   ],
   "source": [
    "l=[1,2,3,4,5,6,True,\"sudh\",5+4j,34.34]\n",
    "for i in l :\n",
    "    print(i) "
   ]
  },
  {
   "cell_type": "markdown",
   "id": "3b4e5ed7-4ecb-4502-b888-65ea0374a22a",
   "metadata": {},
   "source": [
    "Q5. Verifying if A is divisible by B using a while loop:"
   ]
  },
  {
   "cell_type": "code",
   "execution_count": 9,
   "id": "a7dc530a-7b0a-4524-acfe-a14d4ed70eef",
   "metadata": {},
   "outputs": [
    {
     "name": "stdout",
     "output_type": "stream",
     "text": [
      "A is divisible by B 1 times\n"
     ]
    }
   ],
   "source": [
    "A = 20\n",
    "B = 5\n",
    "count = 0\n",
    "\n",
    "while A % B == 0:\n",
    "    count += 1\n",
    "    A /= B\n",
    "\n",
    "print(\"A is divisible by B\", count, \"times\")"
   ]
  },
  {
   "cell_type": "markdown",
   "id": "ea711b09-9444-48ab-b4b2-be0b3cb7947e",
   "metadata": {},
   "source": [
    "Q6. Printing if elements of a list are divisible by 3 or not:"
   ]
  },
  {
   "cell_type": "code",
   "execution_count": 10,
   "id": "73ba134b-0df4-4e02-a8d0-e3b631883112",
   "metadata": {},
   "outputs": [
    {
     "name": "stdout",
     "output_type": "stream",
     "text": [
      "1 is not divisible by 3\n",
      "2 is not divisible by 3\n",
      "3 is divisible by 3\n",
      "4 is not divisible by 3\n",
      "5 is not divisible by 3\n",
      "6 is divisible by 3\n",
      "7 is not divisible by 3\n",
      "8 is not divisible by 3\n",
      "9 is divisible by 3\n",
      "10 is not divisible by 3\n",
      "11 is not divisible by 3\n",
      "12 is divisible by 3\n",
      "13 is not divisible by 3\n",
      "14 is not divisible by 3\n",
      "15 is divisible by 3\n",
      "16 is not divisible by 3\n",
      "17 is not divisible by 3\n",
      "18 is divisible by 3\n",
      "19 is not divisible by 3\n",
      "20 is not divisible by 3\n",
      "21 is divisible by 3\n",
      "22 is not divisible by 3\n",
      "23 is not divisible by 3\n",
      "24 is divisible by 3\n",
      "25 is not divisible by 3\n"
     ]
    }
   ],
   "source": [
    "int_list = list(range(1, 26))\n",
    "\n",
    "for num in int_list:\n",
    "    if num % 3 == 0:\n",
    "        print(num, \"is divisible by 3\")\n",
    "    else:\n",
    "        print(num, \"is not divisible by 3\")"
   ]
  },
  {
   "cell_type": "markdown",
   "id": "20c92f2d-ed8b-4feb-ba7d-d1888440efc7",
   "metadata": {},
   "source": [
    "Q7. Mutable and Immutable data types:"
   ]
  },
  {
   "cell_type": "code",
   "execution_count": 11,
   "id": "9bc9a1a3-5e07-4e2e-9c64-930dc99512a1",
   "metadata": {},
   "outputs": [
    {
     "name": "stdout",
     "output_type": "stream",
     "text": [
      "[10, 2, 3]\n"
     ]
    }
   ],
   "source": [
    "# Example of mutable data type\n",
    "my_list = [1, 2, 3]\n",
    "my_list[0] = 10\n",
    "print(my_list)  # Output: [10, 2, 3]"
   ]
  },
  {
   "cell_type": "code",
   "execution_count": 12,
   "id": "b43381d4-1897-45ae-93b7-1af176efbd4e",
   "metadata": {},
   "outputs": [],
   "source": [
    "# Example of immutable data type\n",
    "my_tuple = (1, 2, 3)\n",
    "# Trying to change the value will result in an error\n",
    "# my_tuple[0] = 10  # TypeError: 'tuple' object does not support item assignment\n",
    "\n",
    "\n",
    "\n"
   ]
  },
  {
   "cell_type": "code",
   "execution_count": null,
   "id": "73abbede-25c6-4225-ae19-3eb2e511596f",
   "metadata": {},
   "outputs": [],
   "source": []
  }
 ],
 "metadata": {
  "kernelspec": {
   "display_name": "Python 3 (ipykernel)",
   "language": "python",
   "name": "python3"
  },
  "language_info": {
   "codemirror_mode": {
    "name": "ipython",
    "version": 3
   },
   "file_extension": ".py",
   "mimetype": "text/x-python",
   "name": "python",
   "nbconvert_exporter": "python",
   "pygments_lexer": "ipython3",
   "version": "3.10.8"
  }
 },
 "nbformat": 4,
 "nbformat_minor": 5
}
